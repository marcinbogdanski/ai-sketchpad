{
 "cells": [
  {
   "cell_type": "code",
   "execution_count": 2,
   "metadata": {},
   "outputs": [],
   "source": [
    "import numpy as np\n",
    "import matplotlib.pyplot as plt"
   ]
  },
  {
   "cell_type": "code",
   "execution_count": null,
   "metadata": {},
   "outputs": [],
   "source": []
  },
  {
   "cell_type": "code",
   "execution_count": null,
   "metadata": {},
   "outputs": [],
   "source": []
  },
  {
   "cell_type": "code",
   "execution_count": 10,
   "metadata": {},
   "outputs": [],
   "source": [
    "def cross_entropy(y, y_hat):\n",
    "    \"\"\"CE for any two propbability distributions, averages over batch.\"\"\"\n",
    "    result = -np.sum(y * np.log(y_hat), axis=-1)   # cross entropy           shape (n_batch,)\n",
    "    return np.average(result)                      # average over batch      shape: scalar"
   ]
  },
  {
   "cell_type": "code",
   "execution_count": null,
   "metadata": {},
   "outputs": [],
   "source": [
    "xx = []\n",
    "yy = []\n",
    "\n",
    "y = np.array([[0, 1]], dtype=float)\n",
    "for y_hat in np.arange(0.01, 1, 0.01):\n",
    "    y_hat = np.array([[1-y_hat, y_hat]])\n",
    "    ce = cross_entropy(y, y_hat)\n",
    "    print(f'y={y}  y_hat={y_hat}  ce={ce:.2f}')\n",
    "    \n",
    "    xx.append(y_hat[0,1])\n",
    "    yy.append(ce)"
   ]
  },
  {
   "cell_type": "code",
   "execution_count": 29,
   "metadata": {},
   "outputs": [
    {
     "data": {
      "image/png": "[encoded data removed]",
      "text/plain": [
       "<Figure size 432x288 with 1 Axes>"
      ]
     },
     "metadata": {
      "needs_background": "light"
     },
     "output_type": "display_data"
    }
   ],
   "source": [
    "plt.plot(xx, yy)\n",
    "plt.grid()"
   ]
  },
  {
   "cell_type": "code",
   "execution_count": null,
   "metadata": {},
   "outputs": [],
   "source": []
  },
  {
   "cell_type": "code",
   "execution_count": 66,
   "metadata": {},
   "outputs": [],
   "source": [
    "def f(pt):\n",
    "    return 1 - pt"
   ]
  },
  {
   "cell_type": "code",
   "execution_count": 67,
   "metadata": {},
   "outputs": [],
   "source": [
    "def ce(pt):\n",
    "    return -1 * np.log(pt)"
   ]
  },
  {
   "cell_type": "code",
   "execution_count": 71,
   "metadata": {},
   "outputs": [],
   "source": [
    "def g(x, alpha, gamma):\n",
    "    return alpha * (1-x)**gamma"
   ]
  },
  {
   "cell_type": "code",
   "execution_count": 149,
   "metadata": {},
   "outputs": [],
   "source": [
    "X = np.arange(0.01, 1.00, 0.01)\n",
    "Y = np.ones_like(X)"
   ]
  },
  {
   "cell_type": "code",
   "execution_count": 150,
   "metadata": {},
   "outputs": [],
   "source": [
    "ALPHA = 0.25\n",
    "GAMMA = 2.0"
   ]
  },
  {
   "cell_type": "code",
   "execution_count": 159,
   "metadata": {},
   "outputs": [],
   "source": [
    "flk = FocalLossK(alpha=ALPHA, gamma=GAMMA, logits=False, reduce=False)"
   ]
  },
  {
   "cell_type": "code",
   "execution_count": 160,
   "metadata": {},
   "outputs": [],
   "source": [
    "flp = FocalLossP()"
   ]
  },
  {
   "cell_type": "code",
   "execution_count": 161,
   "metadata": {},
   "outputs": [
    {
     "data": {
      "image/png": "[encoded data removed]",
      "text/plain": [
       "<Figure size 432x288 with 1 Axes>"
      ]
     },
     "metadata": {
      "needs_background": "light"
     },
     "output_type": "display_data"
    }
   ],
   "source": [
    "plt.plot(X, ALPHA * ce(X))\n",
    "plt.plot(X, g(X, alpha=ALPHA, gamma=GAMMA) * ce(X))\n",
    "plt.plot(X, flk(torch.from_numpy(X), torch.from_numpy(Y)).numpy())\n",
    "plt.plot(X, flp(torch.from_numpy(X), torch.from_numpy(Y)).numpy())\n",
    "plt.grid()\n",
    "plt.show()"
   ]
  },
  {
   "cell_type": "code",
   "execution_count": null,
   "metadata": {},
   "outputs": [],
   "source": []
  },
  {
   "cell_type": "code",
   "execution_count": 138,
   "metadata": {},
   "outputs": [],
   "source": [
    "import torch\n",
    "import torch.nn as nn\n",
    "import torch.nn.functional as F"
   ]
  },
  {
   "cell_type": "code",
   "execution_count": 147,
   "metadata": {},
   "outputs": [],
   "source": [
    "flp = FocalLossP()"
   ]
  },
  {
   "cell_type": "code",
   "execution_count": 148,
   "metadata": {},
   "outputs": [
    {
     "data": {
      "text/plain": [
       "array([2.84952125e-01, 2.39636021e-01, 2.12634869e-01, 1.93214073e-01,\n",
       "       1.77990526e-01, 1.65449203e-01, 1.54777671e-01, 1.45488432e-01,\n",
       "       1.37265386e-01, 1.29891572e-01, 1.23211423e-01, 1.17109466e-01,\n",
       "       1.11497546e-01, 1.06306771e-01, 1.01482235e-01, 9.69794384e-02,\n",
       "       9.27617832e-02, 8.87987885e-02, 8.50647806e-02, 8.15379189e-02,\n",
       "       7.81994578e-02, 7.50331788e-02, 7.20249475e-02, 6.91623651e-02,\n",
       "       6.64344893e-02, 6.38316096e-02, 6.13450657e-02, 5.89670968e-02,\n",
       "       5.66907184e-02, 5.45096193e-02, 5.24180752e-02, 5.04108757e-02,\n",
       "       4.84832631e-02, 4.66308791e-02, 4.48497203e-02, 4.31360989e-02,\n",
       "       4.14866094e-02, 3.98980991e-02, 3.83676429e-02, 3.68925208e-02,\n",
       "       3.54701984e-02, 3.40983098e-02, 3.27746420e-02, 3.14971215e-02,\n",
       "       3.02638022e-02, 2.90728550e-02, 2.79225576e-02, 2.68112861e-02,\n",
       "       2.57375075e-02, 2.46997724e-02, 2.36967088e-02, 2.27270163e-02,\n",
       "       2.17894611e-02, 2.08828711e-02, 2.00061318e-02, 1.91581823e-02,\n",
       "       1.83380116e-02, 1.75446555e-02, 1.67771936e-02, 1.60347465e-02,\n",
       "       1.53164733e-02, 1.46215692e-02, 1.39492633e-02, 1.32988171e-02,\n",
       "       1.26695219e-02, 1.20606976e-02, 1.14716910e-02, 1.09018746e-02,\n",
       "       1.03506446e-02, 9.81742028e-03, 9.30164254e-03, 8.80277280e-03,\n",
       "       8.32029205e-03, 7.85369981e-03, 7.40251333e-03, 6.96626667e-03,\n",
       "       6.54450997e-03, 6.13680866e-03, 5.74274281e-03, 5.36190648e-03,\n",
       "       4.99390708e-03, 4.63836480e-03, 4.29491209e-03, 3.96319310e-03,\n",
       "       3.64286327e-03, 3.33358880e-03, 3.03504626e-03, 2.74692216e-03,\n",
       "       2.46891257e-03, 2.20072278e-03, 1.94206689e-03, 1.69266754e-03,\n",
       "       1.45225557e-03, 1.22056972e-03, 9.97356356e-04, 7.82369188e-04,\n",
       "       5.75369027e-04, 3.76123528e-04, 1.84406964e-04])"
      ]
     },
     "execution_count": 148,
     "metadata": {},
     "output_type": "execute_result"
    }
   ],
   "source": [
    "flp(X_t, Y_t).numpy()"
   ]
  },
  {
   "cell_type": "code",
   "execution_count": 143,
   "metadata": {},
   "outputs": [
    {
     "data": {
      "text/plain": [
       "array([1.12838182e+00, 9.39276724e-01, 8.24830081e-01, 7.41628990e-01,\n",
       "       6.75912094e-01, 6.21482427e-01, 5.74998501e-01, 5.34444181e-01,\n",
       "       4.98504940e-01, 4.66273481e-01, 4.37095615e-01, 4.10483021e-01,\n",
       "       3.86060786e-01, 3.63534267e-01, 3.42667297e-01, 3.23267370e-01,\n",
       "       3.05175267e-01, 2.88257616e-01, 2.72401436e-01, 2.57510066e-01,\n",
       "       2.43500065e-01, 2.30298828e-01, 2.17842721e-01, 2.06075602e-01,\n",
       "       1.94947645e-01, 1.84414382e-01, 1.74435932e-01, 1.64976352e-01,\n",
       "       1.56003116e-01, 1.47486669e-01, 1.39400054e-01, 1.31718603e-01,\n",
       "       1.24419663e-01, 1.17482372e-01, 1.10887462e-01, 1.04617088e-01,\n",
       "       9.86546818e-02, 9.29848249e-02, 8.75931344e-02, 8.24661659e-02,\n",
       "       7.75913263e-02, 7.29567977e-02, 6.85514690e-02, 6.43648753e-02,\n",
       "       6.03871445e-02, 5.66089488e-02, 5.30214610e-02, 4.96163162e-02,\n",
       "       4.63855765e-02, 4.33216988e-02, 4.04175068e-02, 3.76661645e-02,\n",
       "       3.50611526e-02, 3.25962468e-02, 3.02654982e-02, 2.80632152e-02,\n",
       "       2.59839470e-02, 2.40224684e-02, 2.21737660e-02, 2.04330250e-02,\n",
       "       1.87956176e-02, 1.72570924e-02, 1.58131636e-02, 1.44597021e-02,\n",
       "       1.31927268e-02, 1.20083963e-02, 1.09030018e-02, 9.87295951e-03,\n",
       "       8.91480495e-03, 8.02518624e-03, 7.20085875e-03, 6.43867971e-03,\n",
       "       5.73560332e-03, 5.08867607e-03, 4.49503238e-03, 3.95189058e-03,\n",
       "       3.45654901e-03, 3.00638245e-03, 2.59883873e-03, 2.23143551e-03,\n",
       "       1.90175731e-03, 1.60745260e-03, 1.34623120e-03, 1.11586168e-03,\n",
       "       9.14168978e-04, 7.39032160e-04, 5.88382234e-04, 4.60200137e-04,\n",
       "       3.52514794e-04, 2.63401289e-04, 1.90979126e-04, 1.33410574e-04,\n",
       "       8.88990987e-05, 5.56878633e-05, 3.20583090e-05, 1.63287978e-05,\n",
       "       6.85332168e-06, 2.02027073e-06, 2.51258396e-07])"
      ]
     },
     "execution_count": 143,
     "metadata": {},
     "output_type": "execute_result"
    }
   ],
   "source": [
    "g(X, alpha=.25, gamma=2.0) * ce(X)"
   ]
  },
  {
   "cell_type": "code",
   "execution_count": null,
   "metadata": {},
   "outputs": [],
   "source": []
  },
  {
   "cell_type": "code",
   "execution_count": 98,
   "metadata": {},
   "outputs": [],
   "source": [
    "class FocalLossK(nn.Module):\n",
    "    \"\"\"https://www.kaggle.com/c/tgs-salt-identification-challenge/discussion/65938\"\"\"\n",
    "    def __init__(self, alpha=0.25, gamma=2, logits=False, reduce=True):\n",
    "        super().__init__()\n",
    "        self.alpha = alpha\n",
    "        self.gamma = gamma\n",
    "        self.logits = logits\n",
    "        self.reduce = reduce\n",
    "\n",
    "    def forward(self, inputs, targets):\n",
    "        if self.logits:\n",
    "            BCE_loss = F.binary_cross_entropy_with_logits(inputs, targets, reduction='none')\n",
    "        else:\n",
    "            BCE_loss = F.binary_cross_entropy(inputs, targets, reduction='none')\n",
    "        pt = torch.exp(-BCE_loss)\n",
    "        F_loss = self.alpha * (1-pt)**self.gamma * BCE_loss\n",
    "\n",
    "        if self.reduce:\n",
    "            return torch.mean(F_loss)\n",
    "        else:\n",
    "            return F_loss"
   ]
  },
  {
   "cell_type": "code",
   "execution_count": 158,
   "metadata": {},
   "outputs": [],
   "source": [
    "class FocalLossP(nn.Module):\n",
    "    \"\"\"https://github.com/kuangliu/pytorch-retinanet/blob/master/loss.py\"\"\"\n",
    "    def __init__(self):\n",
    "        super().__init__()\n",
    "\n",
    "    def forward(self, x, y):\n",
    "        '''Focal loss.\n",
    "        Args:\n",
    "          x: (tensor) sized [N,D].\n",
    "          y: (tensor) sized [N,].\n",
    "        Return:\n",
    "          (tensor) focal loss.\n",
    "        '''\n",
    "        alpha = 0.25\n",
    "        gamma = 2\n",
    "\n",
    "        t = y\n",
    "        p = x\n",
    "        \n",
    "        pt = p*t + (1-p)*(1-t)         # pt = p if t > 0 else 1-p\n",
    "        w = alpha*t + (1-alpha)*(1-t)  # w = alpha if t > 0 else 1-alpha\n",
    "        w = w * (1-pt).pow(gamma)\n",
    "        return F.binary_cross_entropy(x, t, w, reduction='none')"
   ]
  },
  {
   "cell_type": "code",
   "execution_count": null,
   "metadata": {},
   "outputs": [],
   "source": []
  },
  {
   "cell_type": "code",
   "execution_count": null,
   "metadata": {},
   "outputs": [],
   "source": []
  },
  {
   "cell_type": "code",
   "execution_count": null,
   "metadata": {},
   "outputs": [],
   "source": []
  },
  {
   "cell_type": "code",
   "execution_count": null,
   "metadata": {},
   "outputs": [],
   "source": []
  },
  {
   "cell_type": "code",
   "execution_count": null,
   "metadata": {},
   "outputs": [],
   "source": []
  },
  {
   "cell_type": "code",
   "execution_count": null,
   "metadata": {},
   "outputs": [],
   "source": []
  }
 ],
 "metadata": {
  "kernelspec": {
   "display_name": "Python [conda env:pt]",
   "language": "python",
   "name": "conda-env-pt-py"
  },
  "language_info": {
   "codemirror_mode": {
    "name": "ipython",
    "version": 3
   },
   "file_extension": ".py",
   "mimetype": "text/x-python",
   "name": "python",
   "nbconvert_exporter": "python",
   "pygments_lexer": "ipython3",
   "version": "3.7.4"
  }
 },
 "nbformat": 4,
 "nbformat_minor": 4
}
