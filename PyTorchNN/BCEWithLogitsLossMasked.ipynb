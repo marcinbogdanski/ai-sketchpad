{
 "cells": [
  {
   "cell_type": "code",
   "execution_count": 1,
   "metadata": {},
   "outputs": [],
   "source": [
    "import torch"
   ]
  },
  {
   "cell_type": "code",
   "execution_count": 2,
   "metadata": {},
   "outputs": [],
   "source": [
    "import torch.nn as nn"
   ]
  },
  {
   "cell_type": "code",
   "execution_count": 33,
   "metadata": {},
   "outputs": [],
   "source": [
    "class BCEWithLogitsLossMasked:\n",
    "    def __init__(self):\n",
    "        self.secret_criterion = nn.BCEWithLogitsLoss(reduction='none')\n",
    "    \n",
    "    def __call__(self, x, y, m):\n",
    "        assert x.shape[:2] == y.shape[:2] == m.shape\n",
    "        assert m.dtype == torch.int64\n",
    "        \n",
    "        loss_not_reduced = self.secret_criterion(x, y)\n",
    "        loss_masked_not_reduced = loss_not_reduced * m.unsqueeze(dim=-1)\n",
    "        loss_masked_not_reduced_scalled = loss_masked_not_reduced / l.unsqueeze(dim=-1)\n",
    "        loss_masked_not_reduced_scalled.sum() / len(loss_masked_not_reduced_scalled)\n",
    "        \n",
    "        return loss_masked_not_reduced_scalled.sum() / len(loss_masked_not_reduced_scalled)"
   ]
  },
  {
   "cell_type": "code",
   "execution_count": null,
   "metadata": {},
   "outputs": [],
   "source": []
  },
  {
   "cell_type": "code",
   "execution_count": 34,
   "metadata": {},
   "outputs": [],
   "source": [
    "criterion = nn.BCEWithLogitsLoss()\n",
    "criterion_red = nn.BCEWithLogitsLoss(reduction='none')\n",
    "criterion_fancy = BCEWithLogitsLossMasked()"
   ]
  },
  {
   "cell_type": "markdown",
   "metadata": {},
   "source": [
    "# Inputs"
   ]
  },
  {
   "cell_type": "code",
   "execution_count": 6,
   "metadata": {},
   "outputs": [],
   "source": [
    "# batch, seq, n_out\n",
    "x = torch.randn(2, 4, 5)\n",
    "y = torch.randn(2, 4, 5)"
   ]
  },
  {
   "cell_type": "code",
   "execution_count": 7,
   "metadata": {},
   "outputs": [
    {
     "data": {
      "text/plain": [
       "tensor([[[ 0.9224,  0.1275, -0.4445, -2.4378, -0.1389],\n",
       "         [-0.7623, -0.2174, -0.1883, -0.8485,  0.0264],\n",
       "         [ 1.2433,  0.4055, -1.0698, -1.5804,  1.2499],\n",
       "         [-1.9781, -1.3375, -1.2968, -0.8545,  0.8955]],\n",
       "\n",
       "        [[ 0.3711, -0.8387, -1.0524, -0.1452, -0.3665],\n",
       "         [-0.1056, -1.4996,  0.2971,  1.0016, -0.2294],\n",
       "         [-1.4290,  0.0747,  1.4130,  0.3132,  1.3201],\n",
       "         [ 0.1978,  3.0526, -0.2047,  0.0086, -0.7705]]])"
      ]
     },
     "execution_count": 7,
     "metadata": {},
     "output_type": "execute_result"
    }
   ],
   "source": [
    "x"
   ]
  },
  {
   "cell_type": "code",
   "execution_count": 8,
   "metadata": {},
   "outputs": [
    {
     "data": {
      "text/plain": [
       "tensor([[[ 1.2679,  0.6888, -0.8276,  0.8544,  0.2605],\n",
       "         [-0.4449, -0.2812, -1.0358, -0.4625, -0.1208],\n",
       "         [ 1.0388, -0.3966, -0.2596,  1.9262, -0.1836],\n",
       "         [-1.9481,  0.8885,  0.0687, -1.2673,  0.1870]],\n",
       "\n",
       "        [[-0.9446,  1.1808, -2.2222,  0.0285, -0.0578],\n",
       "         [-0.4722,  1.8635,  0.5248,  0.6397,  0.9245],\n",
       "         [ 2.1397,  0.0330,  1.1433,  0.0392, -0.6117],\n",
       "         [ 0.9815,  1.5426, -1.9470, -0.3060,  0.6797]]])"
      ]
     },
     "execution_count": 8,
     "metadata": {},
     "output_type": "execute_result"
    }
   ],
   "source": [
    "y"
   ]
  },
  {
   "cell_type": "code",
   "execution_count": 9,
   "metadata": {},
   "outputs": [],
   "source": [
    "m = torch.tensor([[0, 0, 1, 1], [0, 1, 1, 1]])"
   ]
  },
  {
   "cell_type": "code",
   "execution_count": 10,
   "metadata": {},
   "outputs": [],
   "source": [
    "l = torch.tensor([[2], [3]])"
   ]
  },
  {
   "cell_type": "markdown",
   "metadata": {},
   "source": [
    "# Loss by fancy"
   ]
  },
  {
   "cell_type": "code",
   "execution_count": 35,
   "metadata": {},
   "outputs": [
    {
     "data": {
      "text/plain": [
       "tensor(3.4548)"
      ]
     },
     "execution_count": 35,
     "metadata": {},
     "output_type": "execute_result"
    }
   ],
   "source": [
    "criterion_fancy(x, y, m)"
   ]
  },
  {
   "cell_type": "markdown",
   "metadata": {},
   "source": [
    "# Loss by loop"
   ]
  },
  {
   "cell_type": "code",
   "execution_count": 14,
   "metadata": {},
   "outputs": [
    {
     "name": "stdout",
     "output_type": "stream",
     "text": [
      "tensor([[ 1.2433,  0.4055, -1.0698, -1.5804,  1.2499],\n",
      "        [-1.9781, -1.3375, -1.2968, -0.8545,  0.8955]])\n",
      "tensor([[ 1.0388, -0.3966, -0.2596,  1.9262, -0.1836],\n",
      "        [-1.9481,  0.8885,  0.0687, -1.2673,  0.1870]])\n",
      "tensor(0.4633)\n",
      "tensor(2.3163)\n",
      "--\n",
      "tensor([[-0.1056, -1.4996,  0.2971,  1.0016, -0.2294],\n",
      "        [-1.4290,  0.0747,  1.4130,  0.3132,  1.3201],\n",
      "        [ 0.1978,  3.0526, -0.2047,  0.0086, -0.7705]])\n",
      "tensor([[-0.4722,  1.8635,  0.5248,  0.6397,  0.9245],\n",
      "        [ 2.1397,  0.0330,  1.1433,  0.0392, -0.6117],\n",
      "        [ 0.9815,  1.5426, -1.9470, -0.3060,  0.6797]])\n",
      "tensor(0.9187)\n",
      "tensor(6.8900)\n",
      "--\n",
      "==\n",
      "tensor(0.6910)\n"
     ]
    }
   ],
   "source": [
    "loss = 0\n",
    "for i in range(len(x)):\n",
    "    x_clip = x[i,-l[i]:]\n",
    "    y_clip = y[i,-l[i]:]\n",
    "    print(x_clip)\n",
    "    print(y_clip)\n",
    "    loss_a = criterion(x_clip, y_clip)\n",
    "    loss_b = criterion_red(x_clip, y_clip).sum() / 2\n",
    "    print(loss_a)\n",
    "    print(loss_b)\n",
    "    loss += loss_a\n",
    "    \n",
    "    print('--')\n",
    "print('==')\n",
    "print(loss / len(x))"
   ]
  },
  {
   "cell_type": "markdown",
   "metadata": {},
   "source": [
    "# Loss vectorized"
   ]
  },
  {
   "cell_type": "code",
   "execution_count": 15,
   "metadata": {},
   "outputs": [
    {
     "data": {
      "text/plain": [
       "tensor([[[ 0.0876,  0.6711,  0.1275,  2.1665,  0.6623],\n",
       "         [ 0.0439,  0.5292,  0.4084, -0.0361,  0.7096],\n",
       "         [ 0.2052,  1.0771,  0.0172,  3.2313,  1.7313],\n",
       "         [-3.7240,  1.4215,  0.3307, -0.7283,  1.0705]],\n",
       "\n",
       "        [[ 1.2463,  1.3496, -2.0391,  0.6273,  0.5054],\n",
       "         [ 0.5918,  2.9960,  0.6968,  0.6737,  0.7971],\n",
       "         [ 3.2723,  0.7288,  0.0153,  0.8497,  2.3643],\n",
       "         [ 0.6028, -1.6102,  0.1974,  0.7001,  0.9041]]])"
      ]
     },
     "execution_count": 15,
     "metadata": {},
     "output_type": "execute_result"
    }
   ],
   "source": [
    "# loss, but not reduce\n",
    "loss_not_reduced = criterion_red(x, y)\n",
    "loss_not_reduced"
   ]
  },
  {
   "cell_type": "code",
   "execution_count": 21,
   "metadata": {},
   "outputs": [
    {
     "data": {
      "text/plain": [
       "tensor([[[ 0.0000,  0.0000,  0.0000,  0.0000,  0.0000],\n",
       "         [ 0.0000,  0.0000,  0.0000, -0.0000,  0.0000],\n",
       "         [ 0.2052,  1.0771,  0.0172,  3.2313,  1.7313],\n",
       "         [-3.7240,  1.4215,  0.3307, -0.7283,  1.0705]],\n",
       "\n",
       "        [[ 0.0000,  0.0000, -0.0000,  0.0000,  0.0000],\n",
       "         [ 0.5918,  2.9960,  0.6968,  0.6737,  0.7971],\n",
       "         [ 3.2723,  0.7288,  0.0153,  0.8497,  2.3643],\n",
       "         [ 0.6028, -1.6102,  0.1974,  0.7001,  0.9041]]])"
      ]
     },
     "execution_count": 21,
     "metadata": {},
     "output_type": "execute_result"
    }
   ],
   "source": [
    "# apply mask\n",
    "loss_masked_not_reduced = loss_not_reduced * m.unsqueeze(dim=-1)\n",
    "loss_masked_not_reduced"
   ]
  },
  {
   "cell_type": "code",
   "execution_count": 26,
   "metadata": {},
   "outputs": [
    {
     "data": {
      "text/plain": [
       "tensor([[[ 0.0000,  0.0000,  0.0000,  0.0000,  0.0000],\n",
       "         [ 0.0000,  0.0000,  0.0000, -0.0000,  0.0000],\n",
       "         [ 0.1026,  0.5386,  0.0086,  1.6157,  0.8657],\n",
       "         [-1.8620,  0.7108,  0.1654, -0.3642,  0.5353]],\n",
       "\n",
       "        [[ 0.0000,  0.0000, -0.0000,  0.0000,  0.0000],\n",
       "         [ 0.1973,  0.9987,  0.2323,  0.2246,  0.2657],\n",
       "         [ 1.0908,  0.2429,  0.0051,  0.2832,  0.7881],\n",
       "         [ 0.2009, -0.5367,  0.0658,  0.2334,  0.3014]]])"
      ]
     },
     "execution_count": 26,
     "metadata": {},
     "output_type": "execute_result"
    }
   ],
   "source": [
    "# scale rows by num not masked\n",
    "loss_masked_not_reduced_scalled = loss_masked_not_reduced / l.unsqueeze(dim=-1)\n",
    "loss_masked_not_reduced_scalled"
   ]
  },
  {
   "cell_type": "code",
   "execution_count": 27,
   "metadata": {},
   "outputs": [
    {
     "data": {
      "text/plain": [
       "tensor([3.4548])"
      ]
     },
     "execution_count": 27,
     "metadata": {},
     "output_type": "execute_result"
    }
   ],
   "source": [
    "# quick test?\n",
    "aa = loss_masked_not_reduced[0].sum() / l[0]\n",
    "bb = loss_masked_not_reduced[1].sum() / l[1]\n",
    "(aa + bb) / 2"
   ]
  },
  {
   "cell_type": "code",
   "execution_count": 28,
   "metadata": {},
   "outputs": [
    {
     "data": {
      "text/plain": [
       "tensor(3.4548)"
      ]
     },
     "execution_count": 28,
     "metadata": {},
     "output_type": "execute_result"
    }
   ],
   "source": [
    "# sum and normalize by batch size\n",
    "loss_masked_not_reduced_scalled.sum() / len(loss_masked_not_reduced_scalled)"
   ]
  },
  {
   "cell_type": "code",
   "execution_count": null,
   "metadata": {},
   "outputs": [],
   "source": []
  },
  {
   "cell_type": "code",
   "execution_count": null,
   "metadata": {},
   "outputs": [],
   "source": []
  },
  {
   "cell_type": "code",
   "execution_count": null,
   "metadata": {},
   "outputs": [],
   "source": []
  },
  {
   "cell_type": "code",
   "execution_count": null,
   "metadata": {},
   "outputs": [],
   "source": []
  },
  {
   "cell_type": "code",
   "execution_count": 137,
   "metadata": {},
   "outputs": [
    {
     "data": {
      "text/plain": [
       "tensor([[-0.0000,  0.0000,  0.5391, -1.1868],\n",
       "        [ 0.0000, -0.2401,  0.2313,  0.2348]])"
      ]
     },
     "execution_count": 137,
     "metadata": {},
     "output_type": "execute_result"
    }
   ],
   "source": [
    "loss_not_reduced = criterion_red(x, y)\n",
    "loss_masked_not_reduced = loss_not_reduced * m\n",
    "loss_masked_not_reduced_scalled = loss_masked_not_reduced / l\n",
    "loss_masked_not_reduced_scalled.sum() / len(loss_masked_not_reduced_scalled)\n",
    "loss_masked_not_reduced_scalled"
   ]
  },
  {
   "cell_type": "markdown",
   "metadata": {},
   "source": [
    "# Loss vectorised"
   ]
  },
  {
   "cell_type": "code",
   "execution_count": 138,
   "metadata": {},
   "outputs": [
    {
     "data": {
      "text/plain": [
       "True"
      ]
     },
     "execution_count": 138,
     "metadata": {},
     "output_type": "execute_result"
    }
   ],
   "source": [
    "x.shape == y.shape"
   ]
  },
  {
   "cell_type": "code",
   "execution_count": 139,
   "metadata": {},
   "outputs": [
    {
     "data": {
      "text/plain": [
       "torch.Size([2, 4])"
      ]
     },
     "execution_count": 139,
     "metadata": {},
     "output_type": "execute_result"
    }
   ],
   "source": [
    "x.shape"
   ]
  },
  {
   "cell_type": "code",
   "execution_count": 140,
   "metadata": {},
   "outputs": [
    {
     "data": {
      "text/plain": [
       "torch.int64"
      ]
     },
     "execution_count": 140,
     "metadata": {},
     "output_type": "execute_result"
    }
   ],
   "source": [
    "m.dtype"
   ]
  },
  {
   "cell_type": "code",
   "execution_count": null,
   "metadata": {},
   "outputs": [],
   "source": []
  },
  {
   "cell_type": "code",
   "execution_count": null,
   "metadata": {},
   "outputs": [],
   "source": []
  }
 ],
 "metadata": {
  "kernelspec": {
   "display_name": "Python [conda env:vo-autotqr2]",
   "language": "python",
   "name": "conda-env-vo-autotqr2-py"
  },
  "language_info": {
   "codemirror_mode": {
    "name": "ipython",
    "version": 3
   },
   "file_extension": ".py",
   "mimetype": "text/x-python",
   "name": "python",
   "nbconvert_exporter": "python",
   "pygments_lexer": "ipython3",
   "version": "3.8.3"
  }
 },
 "nbformat": 4,
 "nbformat_minor": 4
}
